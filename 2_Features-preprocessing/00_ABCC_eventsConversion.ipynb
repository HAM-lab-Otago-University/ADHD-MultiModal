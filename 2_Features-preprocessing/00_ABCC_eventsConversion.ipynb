{
 "cells": [
  {
   "cell_type": "markdown",
   "metadata": {},
   "source": [
    "# Convert and create event files\n",
    "### convert events for each run separately on qualified subs with events in sourcedata using eprimetotsv.py from https://github.com/demidenm/abcc_datapre"
   ]
  },
  {
   "cell_type": "code",
   "execution_count": 1,
   "metadata": {},
   "outputs": [
    {
     "name": "stderr",
     "output_type": "stream",
     "text": [
      "/home/farzane/anaconda3/envs/nilearn_py11/lib/python3.11/site-packages/pandas/core/arrays/masked.py:60: UserWarning: Pandas requires version '1.3.6' or newer of 'bottleneck' (version '1.3.5' currently installed).\n",
      "  from pandas.core import (\n"
     ]
    }
   ],
   "source": [
    "import pandas as pd\n",
    "import traceback\n",
    "import logging\n",
    "import os\n",
    "import numpy as np"
   ]
  },
  {
   "cell_type": "code",
   "execution_count": 2,
   "metadata": {},
   "outputs": [],
   "source": [
    "##Set path to the data folder\n",
    "\n",
    "os.chdir('/media/hcs-sci-psy-narun/ABCC_F')\n",
    "home_dir = '/media/hcs-sci-psy-narun/ABCC_F'\n",
    "file_dir = '/media/hcs-sci-psy-narun/ABCC/fmriresults01/'\n",
    "py_eve_dir1 = '/media/hcs-sci-psy-narun/ABCC_F/etotsv4'\n"
   ]
  },
  {
   "cell_type": "markdown",
   "metadata": {},
   "source": [
    "### number of subjects in sourcedata file , number of subjects with run1/2 event in sourcedata file"
   ]
  },
  {
   "cell_type": "code",
   "execution_count": 3,
   "metadata": {},
   "outputs": [
    {
     "name": "stdout",
     "output_type": "stream",
     "text": [
      "6890 6130 5827 6947\n"
     ]
    }
   ],
   "source": [
    "mid_ID_df  = pd.read_csv(file_dir + 'ABCC_MID_subject_list.tsv', sep = '\\t')\n",
    "sst_ID_df  = pd.read_csv(file_dir + 'ABCC_SST_subject_list.tsv', sep = '\\t')\n",
    "wm_ID_df  = pd.read_csv(file_dir + 'withcalib_list.tsv', sep = '\\t')\n",
    "rest_ID_df  = pd.read_csv(file_dir + 'rsfmri_base_r4_qc_list.tsv', sep = '\\t')\n",
    "print(len(mid_ID_df),len(sst_ID_df),len(wm_ID_df),len(rest_ID_df))"
   ]
  },
  {
   "cell_type": "markdown",
   "metadata": {},
   "source": [
    "## SST"
   ]
  },
  {
   "cell_type": "code",
   "execution_count": null,
   "metadata": {},
   "outputs": [],
   "source": [
    "# eprime to tsv\n",
    "final_base_r12_surf_list = list(sst_ID_df['0'])\n",
    "sesion = 'baselineYear1Arm1'\n",
    "output_dir = py_eve_dir1\n",
    "run_num = '01'\n",
    "task_name = 'SST'\n",
    "for sub_id in final_base_r12_surf_list:\n",
    "        input_dir = (bids_dir + 'sourcedata/sub-%s/ses-baselineYear1Arm1/func' %sub_id)\n",
    "        %run eprimetotsv4.py -i $input_dir -o $output_dir -s $sub_id -e $sesion -r $run_num -t $task_name"
   ]
  },
  {
   "cell_type": "markdown",
   "metadata": {},
   "source": [
    "### run 1 BIDS events"
   ]
  },
  {
   "cell_type": "code",
   "execution_count": null,
   "metadata": {},
   "outputs": [],
   "source": [
    "error_subs1 = []\n",
    "bids_dir = '/media/hcs-sci-psy-narun/ABCC/fmriresults01/sst_events/'\n",
    "\n",
    "for er1 in final_base_r12_surf_list:\n",
    "    try:\n",
    "        new_events = pd.read_csv(py_eve_dir1 + '/sub-%s_ses-baselineYear1Arm1_task-SST_run-01_events.tsv' %er1, sep='\\t')\n",
    "        events_nodiff = pd.DataFrame(columns=['onset', 'duration', 'trial_type'])\n",
    "        for r in range(len(new_events)):\n",
    "            if pd.isna(new_events.loc[r,'Go.OnsetTime']) is False:\n",
    "                #offset_r = r + block_size \n",
    "                onset = new_events.at[r,'Go.OnsetTime'] \n",
    "                duration = 0\n",
    "                trial_type = new_events.at[r,'TrialCode']\n",
    "                events_nodiff.loc[len(events_nodiff)] = [onset, duration, trial_type]\n",
    "\n",
    "            elif pd.isna(new_events.loc[r,'StopSignal.OnsetTime']) is False:\n",
    "                #offset_r = r + block_size\n",
    "                onset = new_events.at[r,'StopSignal.OnsetTime'] \n",
    "                duration = 0\n",
    "                trial_type = new_events.at[r,'TrialCode']\n",
    "                events_nodiff.loc[len(events_nodiff)] = [onset, duration, trial_type]\n",
    "\n",
    "        events_nodiff.to_csv(bids_dir + 'sub-%s_ses-baselineYear1Arm1_task-SST_run-1_events.tsv' %er1, sep='\\t')\n",
    "\n",
    "        print('finished sub:' , er1)\n",
    "    except Exception as e:\n",
    "        error_subs1.append(er1)\n",
    "        logging.error(traceback.format_exc())\n"
   ]
  },
  {
   "cell_type": "markdown",
   "metadata": {},
   "source": [
    "### run 2 BIDS events"
   ]
  },
  {
   "cell_type": "code",
   "execution_count": null,
   "metadata": {},
   "outputs": [],
   "source": [
    "error_subs1 = []\n",
    "bids_dir = '/media/hcs-sci-psy-narun/ABCC/fmriresults01/sst_events/'\n",
    "\n",
    "for er1 in final_base_r12_surf_list:\n",
    "    try:\n",
    "        new_events = pd.read_csv(py_eve_dir1 + '/sub-%s_ses-baselineYear1Arm1_task-SST_run-02_events.tsv' %er1, sep='\\t')\n",
    "        events_nodiff = pd.DataFrame(columns=['onset', 'duration', 'trial_type'])\n",
    "        for r in range(len(new_events)):\n",
    "            if pd.isna(new_events.loc[r,'Go.OnsetTime']) is False:\n",
    "                #offset_r = r + block_size \n",
    "                onset = new_events.at[r,'Go.OnsetTime'] \n",
    "                duration = 0\n",
    "                trial_type = new_events.at[r,'TrialCode']\n",
    "                events_nodiff.loc[len(events_nodiff)] = [onset, duration, trial_type]\n",
    "\n",
    "            elif pd.isna(new_events.loc[r,'StopSignal.OnsetTime']) is False:\n",
    "                #offset_r = r + block_size\n",
    "                onset = new_events.at[r,'StopSignal.OnsetTime'] \n",
    "                duration = 0\n",
    "                trial_type = new_events.at[r,'TrialCode']\n",
    "                events_nodiff.loc[len(events_nodiff)] = [onset, duration, trial_type]\n",
    "\n",
    "        events_nodiff.to_csv(bids_dir + 'sub-%s_ses-baselineYear1Arm1_task-SST_run-2_events.tsv' %er1, sep='\\t')\n",
    "\n",
    "        print('finished sub:' , er1)\n",
    "    except Exception as e:\n",
    "        error_subs1.append(er1)\n",
    "        logging.error(traceback.format_exc())\n"
   ]
  },
  {
   "cell_type": "markdown",
   "metadata": {},
   "source": [
    "## MID"
   ]
  },
  {
   "cell_type": "code",
   "execution_count": null,
   "metadata": {},
   "outputs": [],
   "source": [
    "# eprime to tsv\n",
    "final_base_r12_surf_list = list(mid_ID_df['0'])\n",
    "sesion = 'baselineYear1Arm1'\n",
    "output_dir = py_eve_dir1\n",
    "run_num = '01'\n",
    "task_name = 'MID'\n",
    "for sub_id in final_base_r12_surf_list:\n",
    "        input_dir = (bids_dir + 'sourcedata/sub-%s/ses-baselineYear1Arm1/func' %sub_id)\n",
    "        %run eprimetotsv4.py -i $input_dir -o $output_dir -s $sub_id -e $sesion -r $run_num -t $task_name"
   ]
  },
  {
   "cell_type": "markdown",
   "metadata": {},
   "source": [
    "### run 1 BIDS events"
   ]
  },
  {
   "cell_type": "code",
   "execution_count": null,
   "metadata": {},
   "outputs": [],
   "source": [
    "error_subs1 = []\n",
    "bids_dir = '/media/hcs-sci-psy-narun/ABCC/fmriresults01/mid_events_2024_onset/'\n",
    "\n",
    "for er1 in final_base_r12_surf_list:\n",
    "    try:\n",
    "        new_events = pd.read_csv(py_eve_dir1 + '/sub-%s_ses-baselineYear1Arm1_task-MID_run-01_events.tsv' %er1, sep='\\t')\n",
    "        events_nodiff = pd.DataFrame(columns=['onset', 'duration', 'trial_type'])\n",
    "        for r in range(len(new_events)):\n",
    "            if pd.isna(new_events.loc[r,'Cue.OnsetTime']) is False:\n",
    "                #offset_r = r + block_size \n",
    "                onset = new_events.at[r,'Cue.OnsetTime'] \n",
    "                duration = 0\n",
    "                if new_events.at[r,'Condition'] == 'Triangle':\n",
    "                    trial_type = 'Neutral'\n",
    "                else:\n",
    "                    trial_type = new_events.at[r,'Condition']\n",
    "                events_nodiff.loc[len(events_nodiff)] = [onset, duration, trial_type]\n",
    "\n",
    "            if pd.isna(new_events.loc[r,'Feedback.OnsetTime']) is False:\n",
    "                #offset_r = r + block_size\n",
    "                onset = new_events.at[r,'Feedback.OnsetTime'] \n",
    "                duration = 0\n",
    "                if new_events.at[r,'Condition'] == 'Triangle' and new_events.at[r,'Probe.RESP'] == 1:\n",
    "                    trial_type = 'Neutral' + ' Hit'\n",
    "                elif new_events.at[r,'Condition'] == 'Triangle':\n",
    "                    trial_type = 'Neutral' + ' Miss'\n",
    "                elif new_events.at[r,'Probe.RESP'] == 1:\n",
    "                    trial_type = new_events.at[r,'Condition'] + ' Hit'\n",
    "                else:\n",
    "                    trial_type = new_events.at[r,'Condition'] + ' Miss'\n",
    "                events_nodiff.loc[len(events_nodiff)] = [onset, duration, trial_type]\n",
    "\n",
    "        events_nodiff.to_csv(bids_dir + 'sub-%s_ses-baselineYear1Arm1_task-MID_run-1_events.tsv' %er1, sep='\\t')\n",
    "\n",
    "        print('finished sub:' , er1)\n",
    "    except Exception as e:\n",
    "        error_subs1.append(er1)\n",
    "        logging.error(traceback.format_exc())\n"
   ]
  },
  {
   "cell_type": "markdown",
   "metadata": {},
   "source": [
    "### run 2 BIDS events"
   ]
  },
  {
   "cell_type": "code",
   "execution_count": null,
   "metadata": {},
   "outputs": [],
   "source": [
    "error_subs1 = []\n",
    "bids_dir = '/media/hcs-sci-psy-narun/ABCC/fmriresults01/mid_events_2024_onset/'\n",
    "\n",
    "for er1 in final_base_r12_surf_list:\n",
    "    try:\n",
    "        new_events = pd.read_csv(py_eve_dir1 + '/sub-%s_ses-baselineYear1Arm1_task-MID_run-02_events.tsv' %er1, sep='\\t')\n",
    "        events_nodiff = pd.DataFrame(columns=['onset', 'duration', 'trial_type'])\n",
    "        for r in range(len(new_events)):\n",
    "            if pd.isna(new_events.loc[r,'Cue.OnsetTime']) is False:\n",
    "                #offset_r = r + block_size \n",
    "                onset = new_events.at[r,'Cue.OnsetTime'] \n",
    "                duration = 0\n",
    "                if new_events.at[r,'Condition'] == 'Triangle':\n",
    "                    trial_type = 'Neutral'\n",
    "                else:\n",
    "                    trial_type = new_events.at[r,'Condition']\n",
    "                events_nodiff.loc[len(events_nodiff)] = [onset, duration, trial_type]\n",
    "\n",
    "            if pd.isna(new_events.loc[r,'Feedback.OnsetTime']) is False:\n",
    "                #offset_r = r + block_size\n",
    "                onset = new_events.at[r,'Feedback.OnsetTime'] \n",
    "                duration = 0\n",
    "                if new_events.at[r,'Condition'] == 'Triangle' and new_events.at[r,'Probe.RESP'] == 1:\n",
    "                    trial_type = 'Neutral' + ' Hit'\n",
    "                elif new_events.at[r,'Condition'] == 'Triangle':\n",
    "                    trial_type = 'Neutral' + ' Miss'\n",
    "                elif new_events.at[r,'Probe.RESP'] == 1:\n",
    "                    trial_type = new_events.at[r,'Condition'] + ' Hit'\n",
    "                else:\n",
    "                    trial_type = new_events.at[r,'Condition'] + ' Miss'\n",
    "                events_nodiff.loc[len(events_nodiff)] = [onset, duration, trial_type]\n",
    "\n",
    "        events_nodiff.to_csv(bids_dir + 'sub-%s_ses-baselineYear1Arm1_task-MID_run-2_events.tsv' %er1, sep='\\t')\n",
    "\n",
    "        print('finished sub:' , er1)\n",
    "    except Exception as e:\n",
    "        error_subs1.append(er1)\n",
    "        logging.error(traceback.format_exc())\n"
   ]
  },
  {
   "cell_type": "markdown",
   "metadata": {},
   "source": [
    "## Nback"
   ]
  },
  {
   "cell_type": "code",
   "execution_count": null,
   "metadata": {},
   "outputs": [],
   "source": [
    "final_base_r12_surf_list = list(wm_ID_df['0'])\n",
    "sesion = 'baselineYear1Arm1'\n",
    "output_dir = '/media/hcs-sci-psy-narun/ABCC_F/qc_source_subs_run01'\n",
    "run_num = '01'\n",
    "task_name = 'nback'\n",
    "\n",
    "for sub_id in final_base_r12_surf_list:\n",
    "        input_dir = ('/media/hcs-sci-psy-narun/ABCC/sourcedata/sub-%s/ses-baselineYear1Arm1/func' %sub_id)\n",
    "        %run eprimetotsv4.py -i $input_dir -o $output_dir -s $sub_id -e $sesion -r $run_num -t $task_name"
   ]
  },
  {
   "cell_type": "markdown",
   "metadata": {},
   "source": [
    "### run 1 BIDS events"
   ]
  },
  {
   "cell_type": "code",
   "execution_count": null,
   "metadata": {},
   "outputs": [],
   "source": [
    "\n",
    "run_01_event_list = []\n",
    "py_eve_dir1 = '/media/hcs-sci-psy-narun/ABCC_F/qc_source_subs_run01'\n",
    "for file in os.listdir(py_eve_dir1):\n",
    "    if file.startswith(\"sub-\"):\n",
    "        sub = file[4:19]\n",
    "        if 'run-01' in file:\n",
    "            run_01_event_list.append(sub)\n",
    "\n",
    "\n",
    "error_subs1= []\n",
    "for er1 in run_01_event_list:\n",
    "    try:\n",
    "        new_events = pd.read_csv(py_eve_dir1 + '/sub-%s_ses-baselineYear1Arm1_task-nback_run-01_events.tsv' %er1, sep='\\t')\n",
    "        events_final = pd.DataFrame(columns=['onset', 'duration', 'trial_type', 'stim_type'])\n",
    "\n",
    "        ev_arr = np.zeros((8,4))\n",
    "        block_size = 10\n",
    "        for r in range(len(new_events)):\n",
    "            offset_r = r + block_size\n",
    "            if pd.isna(new_events.loc[r,'CueFix.FinishTime']) is False:\n",
    "                #offset_r = r + block_size\n",
    "                onset = new_events.at[r,'CueFix.FinishTime']\n",
    "                offset = new_events.at[offset_r,'Fix.FinishTime']\n",
    "                duration = offset - onset\n",
    "                trial_type = new_events.at[offset_r,'BlockType']\n",
    "                stim_type = new_events.at[offset_r,'StimType']\n",
    "                events_final.loc[len(events_final)] = [onset, duration, trial_type, stim_type]\n",
    "        events_final.to_csv(py_eve_dir1 + '/final_events/sub-%s_ses-baselineYear1Arm1_task-nback_run-01_events.tsv' %er1, sep='\\t')\n",
    "        print('finished sub:' , er1)\n",
    "    except Exception as e:\n",
    "        error_subs1.append(er1)\n",
    "        logging.error(traceback.format_exc())\n",
    "\n"
   ]
  },
  {
   "cell_type": "markdown",
   "metadata": {},
   "source": [
    "### run 2 BIDS events"
   ]
  },
  {
   "cell_type": "code",
   "execution_count": null,
   "metadata": {},
   "outputs": [],
   "source": [
    "\n",
    "run_02_event_list = []\n",
    "py_eve_dir2 = '/media/hcs-sci-psy-narun/ABCC_F/qc_source_subs_run02'\n",
    "for file in os.listdir(py_eve_dir2):\n",
    "    if file.startswith(\"sub-\"):\n",
    "        sub = file[4:19]\n",
    "        if 'run-02' in file:\n",
    "            run_02_event_list.append(sub)\n",
    "\n",
    "error_subs2= []\n",
    "for er1 in run_02_event_list:\n",
    "    try:\n",
    "        new_events = pd.read_csv(py_eve_dir2 + '/sub-%s_ses-baselineYear1Arm1_task-nback_run-02_events.tsv' %er1, sep='\\t')\n",
    "        events_final = pd.DataFrame(columns=['onset', 'duration', 'trial_type', 'stim_type'])\n",
    "\n",
    "        ev_arr = np.zeros((8,4))\n",
    "        block_size = 10\n",
    "        for r in range(len(new_events)):\n",
    "            offset_r = r + block_size\n",
    "            if pd.isna(new_events.loc[r,'CueFix.FinishTime']) is False:\n",
    "                #offset_r = r + block_size\n",
    "                onset = new_events.at[r,'CueFix.FinishTime']\n",
    "                offset = new_events.at[offset_r,'Fix.FinishTime']\n",
    "                duration = offset - onset\n",
    "                trial_type = new_events.at[offset_r,'BlockType']\n",
    "                stim_type = new_events.at[offset_r,'StimType']\n",
    "                events_final.loc[len(events_final)] = [onset, duration, trial_type, stim_type]\n",
    "        events_final.to_csv(py_eve_dir2 + '/final_events/sub-%s_ses-baselineYear1Arm1_task-nback_run-02_events.tsv' %er1, sep='\\t')\n",
    "        print('finished sub:' , er1)\n",
    "    except Exception as e:\n",
    "        error_subs2.append(er1)\n",
    "        logging.error(traceback.format_exc())"
   ]
  }
 ],
 "metadata": {
  "kernelspec": {
   "display_name": "nilearn_py11",
   "language": "python",
   "name": "python3"
  },
  "language_info": {
   "codemirror_mode": {
    "name": "ipython",
    "version": 3
   },
   "file_extension": ".py",
   "mimetype": "text/x-python",
   "name": "python",
   "nbconvert_exporter": "python",
   "pygments_lexer": "ipython3",
   "version": "3.11.11"
  }
 },
 "nbformat": 4,
 "nbformat_minor": 2
}
