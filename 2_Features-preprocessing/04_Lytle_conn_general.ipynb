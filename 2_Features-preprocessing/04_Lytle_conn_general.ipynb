{
 "cells": [
  {
   "cell_type": "code",
   "execution_count": 2,
   "metadata": {},
   "outputs": [
    {
     "name": "stderr",
     "output_type": "stream",
     "text": [
      "pixdim[1,2,3] should be non-zero; setting 0 dims to 1\n"
     ]
    }
   ],
   "source": [
    "##import libs\n",
    "import numpy as np\n",
    "import plotly\n",
    "from plotly.subplots import make_subplots\n",
    "import os\n",
    "import matplotlib.pyplot as plt #to enable plotting within notebook\n",
    "import matplotlib\n",
    "from nilearn import image as nimg\n",
    "from nilearn import plotting \n",
    "from bids.layout import BIDSLayout\n",
    "import bids\n",
    "from matplotlib.pyplot import figure\n",
    "import mpld3\n",
    "import pandas as pd\n",
    "from pathlib import Path   \n",
    "import nibabel as nb \n",
    "import plotly.express as px\n",
    "from nilearn.datasets import fetch_icbm152_brain_gm_mask\n",
    "from nilearn.plotting import plot_roi\n",
    "from nilearn.glm.first_level import make_first_level_design_matrix, run_glm\n",
    "import seaborn as sns\n",
    "from scipy.stats import norm\n",
    "from nilearn.glm.contrasts import compute_contrast\n",
    "from nilearn.plotting import plot_contrast_matrix\n",
    "from nilearn.reporting import make_glm_report\n",
    "from nilearn.interfaces.bids import save_glm_to_bids\n",
    "from ordered_set import OrderedSet\n",
    "from nilearn.glm.first_level import first_level_from_bids\n",
    "import pickle\n",
    "import os.path\n",
    "import pathlib\n",
    "import gc\n",
    "from nilearn import image\n",
    "from templateflow import api as tflow\n",
    "from nilearn.maskers import NiftiMasker\n",
    "import traceback\n",
    "import logging\n",
    "from nilearn.glm.first_level import FirstLevelModel\n",
    "import nilearn as nl\n",
    "from nilearn.interfaces.fmriprep import load_confounds\n",
    "import json\n",
    "from nilearn import surface\n",
    "import cv2\n",
    "import glob\n",
    "import nibabel as nb\n",
    "from pathlib import Path              # Combine path elements with /\n",
    "from pprint import pprint             # Pretty-printing\n",
    "import numpy as np                    # Numeric Python\n",
    "from matplotlib import pyplot as plt  # Matlab-ish plotting commands\n",
    "from nilearn import plotting as nlp   # Nice neuroimage plotting\n",
    "import transforms3d                   # Work with affine algebra\n",
    "from scipy import ndimage as ndi      # Operate on N-dimensional images\n",
    "import nibabel.testing                # For fetching test data\n",
    "import hcp_utils as hcp\n",
    "##import libs for glm and plots\n",
    "import nilearn\n",
    "import warnings\n",
    "from nilearn.connectome import ConnectivityMeasure\n",
    "from scipy.interpolate import interp1d\n",
    "from scipy.interpolate import CubicSpline\n"
   ]
  },
  {
   "cell_type": "code",
   "execution_count": 3,
   "metadata": {},
   "outputs": [
    {
     "name": "stdout",
     "output_type": "stream",
     "text": [
      "3796 8468\n"
     ]
    }
   ],
   "source": [
    "#create general fc - ABCC:\n",
    "\n",
    "wm_list = list(pd.read_csv('/media/hcs-sci-psy-narun/ABCC/fmriresults01/withcalib_list.tsv', sep = '\\t')['0'])\n",
    "sst_list = list(pd.read_csv('/media/hcs-sci-psy-narun/ABCC/fmriresults01/ABCC_SST_subject_list.tsv', sep = '\\t')['0'])\n",
    "mid_list = list(pd.read_csv('/media/hcs-sci-psy-narun/ABCC/fmriresults01/ABCC_MID_subject_list3.tsv', sep = '\\t')['0'])\n",
    "rest_list = list(pd.read_csv('/media/hcs-sci-psy-narun/ABCC/fmriresults01/rsfmri_base_r4_qc_list.tsv', sep = '\\t')['0'])\n",
    "shared_el = list(set(wm_list) & set(sst_list) & set(mid_list) & set(rest_list))\n",
    "all_el = list (set(wm_list + sst_list + mid_list + rest_list))\n",
    "print(len(shared_el), len(all_el))"
   ]
  },
  {
   "cell_type": "code",
   "execution_count": null,
   "metadata": {},
   "outputs": [],
   "source": []
  },
  {
   "cell_type": "code",
   "execution_count": 4,
   "metadata": {},
   "outputs": [],
   "source": [
    "qc = pd.read_csv('/media/hcs-sci-psy-narun/abcd-data-release-5.1/core/imaging/mri_y_qc_incl.csv', index_col=0)\n",
    "new_ind_s = [ind.replace('_', '') for ind in qc.index]\n",
    "qc.index = new_ind_s\n",
    "\n",
    "qc_base_ind1 = qc[(qc['eventname'] == 'baseline_year_1_arm_1') & (qc['imgincl_mid_include']== 1)].index\n",
    "qc_base_ind2 = qc[(qc['eventname'] == 'baseline_year_1_arm_1') & (qc['imgincl_sst_include']== 1)].index\n",
    "qc_base_ind3 = qc[(qc['eventname'] == 'baseline_year_1_arm_1') & (qc['imgincl_nback_include']== 1)].index\n",
    "qc_base_ind4 = qc[(qc['eventname'] == 'baseline_year_1_arm_1') & (qc['imgincl_rsfmri_include']== 1)].index\n",
    "\n",
    "shared_qual = list(set(qc_base_ind1) & set(qc_base_ind2) & set(qc_base_ind3) & set(qc_base_ind4))\n",
    "len(shared_qual)\n",
    "qc_base_ind = [qc_base_ind1, qc_base_ind2, qc_base_ind3, qc_base_ind4]"
   ]
  },
  {
   "cell_type": "code",
   "execution_count": 5,
   "metadata": {},
   "outputs": [
    {
     "name": "stdout",
     "output_type": "stream",
     "text": [
      "3796 5294\n"
     ]
    }
   ],
   "source": [
    "shared_final = list(set(shared_el) & set(shared_qual))\n",
    "all_final = list(set(all_el) & set(shared_qual))\n",
    "print(len(shared_final), len(all_final))"
   ]
  },
  {
   "cell_type": "code",
   "execution_count": 6,
   "metadata": {},
   "outputs": [],
   "source": [
    "def compute_conn(parced_sig, path, sub_label, cen):\n",
    "    headers = list(hcp.mmp.labels.values())[1:]\n",
    "    ##plot nilearn parced correlation matrix\n",
    "    correlation_measure = ConnectivityMeasure(kind=\"correlation\")\n",
    "    correlation_matrix = correlation_measure.fit_transform([parced_sig])[0]\n",
    "\n",
    "    pd.DataFrame(correlation_matrix, columns = headers).to_csv(path +\n",
    "                                    '/sub-%s_space-fsLR_atlas-Glasser_desc-%s_measure-pearsoncorrelation_conmat.tsv' %(sub_label, cen), sep='\\t')\n",
    "    # plot connectivity matrix\n",
    "    conmat_fig = plotting.plot_matrix(\n",
    "        correlation_matrix,\n",
    "        figure=(10, 8),\n",
    "        labels=headers, \n",
    "        vmax=1,\n",
    "        vmin=-1,\n",
    "        #title=\"Confounds\",\n",
    "        #reorder=True,\n",
    "    )\n",
    "    conmat_fig.figure.savefig(path + '/sub-%s_space-fsLR_atlas-Glasser_desc-%s_measure-pearsoncorrelation_conmat.png' %(sub_label, cen))\n",
    "    gc.collect()\n"
   ]
  },
  {
   "cell_type": "code",
   "execution_count": 12,
   "metadata": {},
   "outputs": [],
   "source": [
    "def GFC(iter, subject_label, path):\n",
    "    try:\n",
    "        rest_key = False\n",
    "        gfc = []\n",
    "        tfc = []\n",
    "\n",
    "        outpath = (path+'sub-{}'.format(subject_label))\n",
    "        #print(path)\n",
    "        if not os.path.exists(outpath):\n",
    "            os.mkdir(outpath)\n",
    "\n",
    "        wm_file = '/media/hcs-sci-psy-narun/ABCC/fmriresults01/derivatives/nilearn_glm/tconnectivity_WM/fullscrubbed-despiked/sub-%s/sub-%s_task-nback_run-all_space-fsLR_atlas-Glasser_desc-uncensored_parcelations.tsv' %(subject_label, subject_label)\n",
    "        sst_file = '/media/hcs-sci-psy-narun/ABCC/fmriresults01/derivatives/nilearn_glm/tconnectivity_SST/fullscrubbed-despiked/sub-%s/sub-%s_task-SST_run-all_space-fsLR_atlas-Glasser_desc-uncensored_parcelations.tsv' %(subject_label, subject_label)\n",
    "        mid_file = '/media/hcs-sci-psy-narun/ABCC/fmriresults01/derivatives/nilearn_glm/tconnectivity_MID/fullscrubbed-despiked_onset/sub-%s/sub-%s_task-MID_run-all_space-fsLR_atlas-Glasser_desc-uncensored_parcelations.tsv' %(subject_label, subject_label)\n",
    "        rest_file = '/media/hcs-sci-psy-narun/ABCC/fmriresults01/derivatives/nilearn_glm/tconnectivity_rest/no-hrf/sub-%s/sub-%s_task-rest_run-all_space-fsLR_atlas-Glasser_desc-uncensored_parcelations.tsv' %(subject_label, subject_label)\n",
    "\n",
    "        for i , task in enumerate([mid_file, sst_file, wm_file , rest_file]):\n",
    "            directory_path = task.split('sub-%s' % subject_label)[0] + 'sub-%s/' % subject_label\n",
    "            log_file = glob.glob(os.path.join(directory_path, '*scrubbing_log*'))\n",
    "            print(directory_path)\n",
    "            if os.path.isfile(task) and subject_label in qc_base_ind[i] and log_file:\n",
    "                log_data = pd.read_csv(log_file[0], sep='\\t')\n",
    "                if log_data['del vols'][2] < log_data['N of vols needed'][2]:\n",
    "                    table = pd.read_csv(task, sep='\\t', index_col=0)\n",
    "                    ar = np.array(table)\n",
    "                    gfc.append(ar)\n",
    "                    if i == 3:\n",
    "                        rest_key = True\n",
    "                    else:\n",
    "                        tfc.append(ar)\n",
    "\n",
    "        if len(gfc) > 1 and rest_key:\n",
    "            gfc_tseries = np.vstack(gfc)\n",
    "            compute_conn(gfc_tseries, outpath, subject_label, \"general\")\n",
    "        if len(tfc) > 1:\n",
    "            tfc_tseries = np.vstack(tfc)\n",
    "            compute_conn(tfc_tseries, outpath, subject_label, \"task\")\n",
    "        gc.collect()\n",
    "    except Exception as e:\n",
    "        #error.append(sub_label)\n",
    "        logging.error(traceback.format_exc())\n",
    "\n"
   ]
  },
  {
   "cell_type": "code",
   "execution_count": null,
   "metadata": {},
   "outputs": [],
   "source": [
    "## run parallel\n",
    "import warnings\n",
    "import joblib\n",
    "from joblib import Parallel, delayed\n",
    "from joblib import parallel_backend\n",
    "\n",
    "from joblib import Memory\n",
    "warnings.filterwarnings(action='ignore')\n",
    "\n",
    "output_path = '/media/hcs-sci-psy-narun/ABCC/fmriresults01/derivatives/nilearn_glm/FC-valid/'\n",
    "if not os.path.exists(output_path):\n",
    "    os.makedirs(output_path)\n",
    "\n",
    "\n",
    "Parallel(n_jobs=40)(delayed(GFC)(iter, subject_label, output_path) for iter, subject_label in enumerate(all_el))\n",
    "\n"
   ]
  },
  {
   "cell_type": "code",
   "execution_count": 3,
   "metadata": {},
   "outputs": [],
   "source": [
    "root_directory = '/media/hcs-sci-psy-narun/ABCC/fmriresults01/derivatives/nilearn_glm/FC/'"
   ]
  },
  {
   "cell_type": "code",
   "execution_count": 14,
   "metadata": {},
   "outputs": [],
   "source": [
    "\n",
    "completed_subs = []\n",
    "one_subs = []\n",
    "for item in os.listdir(root_directory):\n",
    "    item_path = os.path.join(root_directory, item)\n",
    "    if os.path.isdir(item_path):\n",
    "        item_count = len(os.listdir(item_path))\n",
    "        if item_count == 4:\n",
    "            completed_subs.append(item[4:])\n",
    "        elif item_count == 2:\n",
    "            one_subs.append(item[4:])\n",
    "rerun1 = list(set(all_el) - (set(one_subs)))\n",
    "pd.DataFrame(rerun1).to_csv(root_directory + 'rerun1.csv')"
   ]
  },
  {
   "cell_type": "code",
   "execution_count": 16,
   "metadata": {},
   "outputs": [
    {
     "data": {
      "text/plain": [
       "7049"
      ]
     },
     "execution_count": 16,
     "metadata": {},
     "output_type": "execute_result"
    }
   ],
   "source": [
    "print(len(completed_subs), len(one_subs), len(rerun1))"
   ]
  }
 ],
 "metadata": {
  "kernelspec": {
   "display_name": "nilearn_py11",
   "language": "python",
   "name": "python3"
  },
  "language_info": {
   "codemirror_mode": {
    "name": "ipython",
    "version": 3
   },
   "file_extension": ".py",
   "mimetype": "text/x-python",
   "name": "python",
   "nbconvert_exporter": "python",
   "pygments_lexer": "ipython3",
   "version": "3.11.4"
  }
 },
 "nbformat": 4,
 "nbformat_minor": 2
}
