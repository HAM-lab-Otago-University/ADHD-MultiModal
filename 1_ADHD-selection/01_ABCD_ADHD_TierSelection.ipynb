{
 "cells": [
  {
   "cell_type": "markdown",
   "metadata": {},
   "source": [
    "# Tier Selection"
   ]
  },
  {
   "cell_type": "code",
   "execution_count": null,
   "metadata": {},
   "outputs": [],
   "source": [
    "import numpy as np\n",
    "import os\n",
    "import pandas as pd"
   ]
  },
  {
   "cell_type": "markdown",
   "metadata": {},
   "source": [
    "### load tables"
   ]
  },
  {
   "cell_type": "code",
   "execution_count": null,
   "metadata": {},
   "outputs": [],
   "source": [
    "ksad_p51 = pd.read_csv('/media/hcs-sci-psy-narun/abcd-data-release-5.1/core/mental-health/mh_p_ksads_ss.csv', low_memory=False )\n",
    "# filtered_pv51_sum = ksad_p51[(ksad_p51['eventname'] == 'baseline_year_1_arm_1') & (ksad_p51['ksads_14_853_p'] == 1)]"
   ]
  },
  {
   "cell_type": "code",
   "execution_count": null,
   "metadata": {},
   "outputs": [],
   "source": [
    "adhd_p51 = pd.DataFrame(pd.read_csv('/media/hcs-sci-psy-narun/abcd-data-release-5.1/core/mental-health/mh_p_ksads_adhd.csv', low_memory=False))\n",
    "wisv_v51 = pd.DataFrame(pd.read_csv('/media/hcs-sci-psy-narun/abcd-data-release-5.1/core/neurocognition/nc_y_wisc.csv', low_memory=False))\n",
    "ksad_y51 = pd.DataFrame(pd.read_csv('/media/hcs-sci-psy-narun/abcd-data-release-5.1/core/mental-health/mh_y_ksads_ss.csv', low_memory=False))\n",
    "ksad_p51 = pd.DataFrame(pd.read_csv('/media/hcs-sci-psy-narun/abcd-data-release-5.1/core/mental-health/mh_p_ksads_ss.csv', low_memory=False))\n",
    "bpm_t51 = pd.DataFrame(pd.read_csv('/media/hcs-sci-psy-narun/abcd-data-release-5.1/core/mental-health/mh_t_bpm.csv', low_memory=False))\n",
    "cbcl_p51 = pd.DataFrame(pd.read_csv('/media/hcs-sci-psy-narun/abcd-data-release-5.1/core/mental-health/mh_p_cbcl.csv', low_memory=False))"
   ]
  },
  {
   "cell_type": "markdown",
   "metadata": {},
   "source": [
    "### Baseline Full sample size from ksad table"
   ]
  },
  {
   "cell_type": "code",
   "execution_count": null,
   "metadata": {},
   "outputs": [
    {
     "data": {
      "text/plain": [
       "11747"
      ]
     },
     "metadata": {},
     "output_type": "display_data"
    }
   ],
   "source": [
    "full_size = len(ksad_p51[(ksad_p51['eventname'] == 'baseline_year_1_arm_1')])\n",
    "full_size\n",
    "full_subkey = list(ksad_p51[(ksad_p51['eventname'] == 'baseline_year_1_arm_1')].src_subject_id)\n",
    "len(full_subkey)"
   ]
  },
  {
   "cell_type": "markdown",
   "metadata": {},
   "source": [
    "### Tier 1 - v5.1\n",
    "#### using scores from adhd table to calculate score equivalent to \"ADHD Present on the KSADS COMP\""
   ]
  },
  {
   "cell_type": "code",
   "execution_count": null,
   "metadata": {},
   "outputs": [
    {
     "data": {
      "text/plain": [
       "1034"
      ]
     },
     "metadata": {},
     "output_type": "display_data"
    }
   ],
   "source": [
    "column_names1 = [col for col in adhd_p51.columns if '404' in col or '409' in col or '414' in col ]\n",
    "column_names2 = [col for col in adhd_p51.columns if any(x in col for x in map(str, range(973, 989)))]\n",
    "column_names3 = [col for col in adhd_p51.columns if any(x in col for x in map(str, range(990, 995)))]\n",
    "filtered_df1 = adhd_p51[adhd_p51[column_names1].isin([3, 4]).any(axis=1)]\n",
    "filtered_df2 = filtered_df1[filtered_df1[column_names2].isin([2, 3, 4]).any(axis=1)]\n",
    "count_condition = filtered_df2[column_names3].apply(lambda row: (row == 1).sum(), axis=1)\n",
    "#Problem in at least 2 settings:\n",
    "filtered_df3 = filtered_df2[count_condition >= 2] \n",
    "filtered_pv51 = filtered_df3[(filtered_df3['eventname'] == 'baseline_year_1_arm_1')]\n",
    "T1_subkey = filtered_pv51.src_subject_id\n",
    "len(T1_subkey)#/full_size"
   ]
  },
  {
   "cell_type": "markdown",
   "metadata": {},
   "source": [
    "### Tier 2 - v5.1\n",
    "#### Subjects are filtered based on IQ, bipolar and psychosis in each respective table and subject list created.\n",
    "#### \n"
   ]
  },
  {
   "cell_type": "code",
   "execution_count": null,
   "metadata": {},
   "outputs": [
    {
     "data": {
      "text/plain": [
       "944"
      ]
     },
     "metadata": {},
     "output_type": "display_data"
    }
   ],
   "source": [
    "#IQ\n",
    "filtered_iq_v51 = wisv_v51[((wisv_v51['pea_wiscv_tss'] > 3) & (wisv_v51['eventname'] == 'baseline_year_1_arm_1'))]\n",
    "#bipolar:\n",
    "p_column_names = [col for col in ksad_p51.columns if 'ksads_1_' in col and any(x in col for x in map(str, range(840, 848)))] #parent columns\n",
    "c_column_names = [col for col in ksad_y51.columns if 'ksads_1_' in col and any(x in col for x in map(str, range(840, 848)))] #child columns\n",
    "\n",
    "#bipolar - parent filtered:\n",
    "filtered_p1 = ksad_p51[~(((ksad_p51[p_column_names].isin([1]).any(axis=1)) & (ksad_p51['ksads_2_833_p'] == 1)) | (ksad_p51['ksads_2_830_p'] == 1)) & (ksad_p51['eventname'] == 'baseline_year_1_arm_1')]\n",
    "#bipolar - child filtered:\n",
    "filtered_y1 = ksad_y51[~(((ksad_y51[c_column_names].isin([1]).any(axis=1)) & (ksad_y51['ksads_2_833_t'] == 1)) | (ksad_y51['ksads_2_830_t'] == 1)) & (ksad_y51['eventname'] == 'baseline_year_1_arm_1')]\n",
    "#psychosis:\n",
    "filtered_psy =  ksad_p51[~(ksad_p51['ksads_4_851_p'] == 1) & (ksad_p51['eventname'] == 'baseline_year_1_arm_1')]\n",
    "#subjects who remained after filtering for IQ AND bipolar AND psychosis:\n",
    "T2_subs = list((set(filtered_p1['src_subject_id']) & set(filtered_y1['src_subject_id'])) & set(filtered_psy['src_subject_id']) & set(filtered_iq_v51['src_subject_id']))\n",
    "T2_finalsub = list(set(T1_subkey) & set(T2_subs))\n",
    "len(T2_finalsub)#/full_size"
   ]
  },
  {
   "cell_type": "markdown",
   "metadata": {},
   "source": [
    "### Tier 3 - v5.1\n",
    "#### Subjects are filtered based on Teacher BPM attention scale"
   ]
  },
  {
   "cell_type": "code",
   "execution_count": null,
   "metadata": {},
   "outputs": [
    {
     "data": {
      "text/plain": [
       "103"
      ]
     },
     "metadata": {},
     "output_type": "display_data"
    }
   ],
   "source": [
    "filtered_bpm =  bpm_t51[(bpm_t51['bpm_t_scr_attention_t'] >= 65) & (bpm_t51['eventname'] == 'baseline_year_1_arm_1')]\n",
    "T3_subkey = filtered_bpm.src_subject_id\n",
    "T3_finalsub = list(set(T2_finalsub) & set(T3_subkey))\n",
    "len(T3_finalsub)#/full_size"
   ]
  },
  {
   "cell_type": "markdown",
   "metadata": {},
   "source": [
    "### Tier 4 - v5\n",
    "#### Subjects are filtered based on parent CBCL Attention OR ADHD DSM5 scale"
   ]
  },
  {
   "cell_type": "code",
   "execution_count": null,
   "metadata": {},
   "outputs": [
    {
     "name": "stderr",
     "output_type": "stream",
     "text": [
      "/tmp/ipykernel_268207/2754702445.py:1: UserWarning: Boolean Series key will be reindexed to match DataFrame index.\n",
      "  filtered_cbclp =  cbcl_p51[((cbcl_p5['cbcl_scr_syn_attention_t'] >= 65) | (cbcl_p51['cbcl_scr_dsm5_adhd_t'] >= 65)) & (cbcl_p51['eventname'] == 'baseline_year_1_arm_1')]\n"
     ]
    },
    {
     "data": {
      "text/plain": [
       "61"
      ]
     },
     "metadata": {},
     "output_type": "display_data"
    }
   ],
   "source": [
    "filtered_cbclp =  cbcl_p51[((cbcl_p51['cbcl_scr_syn_attention_t'] >= 65) | (cbcl_p51['cbcl_scr_dsm5_adhd_t'] >= 65)) & (cbcl_p51['eventname'] == 'baseline_year_1_arm_1')]\n",
    "T4_subkey = filtered_cbclp.src_subject_id\n",
    "T4_finalsub = list(set(T3_finalsub) & set(T4_subkey))\n",
    "len(T4_finalsub)#/full_size"
   ]
  },
  {
   "cell_type": "code",
   "execution_count": null,
   "metadata": {},
   "outputs": [],
   "source": [
    "#save:\n",
    "pd.DataFrame(full_subkey).to_csv('/media/hcs-sci-psy-narun/ABCC_F/ksad/full_v51subkey.csv', index=False)\n",
    "pd.DataFrame(T1_subkey).to_csv('/media/hcs-sci-psy-narun/ABCC_F/ksad/T1_v51subkey.csv', index=False)\n",
    "pd.DataFrame(T2_finalsub).to_csv('/media/hcs-sci-psy-narun/ABCC_F/ksad/T2_v51finalsub.csv', index=False)\n",
    "pd.DataFrame(T3_finalsub).to_csv('/media/hcs-sci-psy-narun/ABCC_F/ksad/T3_v51finalsub.csv', index=False)\n",
    "pd.DataFrame(T4_finalsub).to_csv('/media/hcs-sci-psy-narun/ABCC_F/ksad/T4_v51finalsub.csv', index=False)"
   ]
  }
 ],
 "metadata": {
  "language_info": {
   "name": "python"
  }
 },
 "nbformat": 4,
 "nbformat_minor": 2
}
