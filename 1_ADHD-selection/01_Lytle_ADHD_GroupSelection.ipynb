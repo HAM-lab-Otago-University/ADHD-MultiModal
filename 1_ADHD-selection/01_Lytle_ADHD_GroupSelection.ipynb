{
 "cells": [
  {
   "cell_type": "markdown",
   "metadata": {},
   "source": [
    "# Select ADHD - non-ADHD"
   ]
  },
  {
   "cell_type": "code",
   "execution_count": null,
   "metadata": {},
   "outputs": [],
   "source": [
    "import numpy as np\n",
    "import os\n",
    "import pandas as pd\n",
    "import seaborn as sns\n",
    "import matplotlib.pyplot as plt\n",
    "import hcp_utils as hcp\n",
    "import nilearn as nl\n",
    "import gc\n",
    "import traceback\n",
    "import logging\n",
    "import pickle\n",
    "import warnings\n",
    "import joblib\n",
    "from joblib import Parallel, delayed\n",
    "from joblib import parallel_backend\n",
    "from multiprocessing import Process, Manager\n",
    "from joblib import Memory\n",
    "warnings.filterwarnings(action='ignore')"
   ]
  },
  {
   "cell_type": "code",
   "execution_count": null,
   "metadata": {},
   "outputs": [],
   "source": [
    "# target tables:\n",
    "d1_iq = '/media/hcs-sci-psy-narun/OpenNEURO_adhd/ds002424-download/phenotype/ses-T1/wasi.tsv'\n",
    "d1_targ = pd.read_csv(d1_iq, sep='\\t', index_col=0)[['WASI_VIQ','WASI_PIQ','WASI_FSIQ']]"
   ]
  },
  {
   "cell_type": "code",
   "execution_count": null,
   "metadata": {},
   "outputs": [],
   "source": [
    "#adhd groups:\n",
    "demo = pd.read_csv('/media/hcs-sci-psy-narun/OpenNEURO_adhd/ds002424-download/participants.tsv', sep='\\t', index_col=0)\n",
    "adhd1 =  demo[(demo['ADHD_diagnosis'].isin([1]))]\n",
    "non1 =  demo[(demo['ADHD_diagnosis'].isin([0]))]\n",
    "cog_table1 = demo.join(d1_targ)\n",
    "# Find shared indices\n",
    "shared_adhd1 = adhd1.index.intersection(d1_targ.index)\n",
    "shared_non1 = non1.index.intersection(d1_targ.index)\n",
    "# Filter both DataFrames to include only the shared indices\n",
    "adhd1_cog = d1_targ.loc[shared_adhd1]\n",
    "non1_cog = d1_targ.loc[shared_non1]\n",
    "\n",
    "adhd1_cog.to_csv('/media/hcs-sci-psy-narun/OpenNEURO_adhd/ds002424-download/derivatives/ML_Tables/cog_adhd1.csv')\n",
    "non1_cog.to_csv('/media/hcs-sci-psy-narun/OpenNEURO_adhd/ds002424-download/derivatives/ML_Tables/cog_non1.csv')"
   ]
  }
 ],
 "metadata": {
  "language_info": {
   "name": "python"
  }
 },
 "nbformat": 4,
 "nbformat_minor": 2
}
