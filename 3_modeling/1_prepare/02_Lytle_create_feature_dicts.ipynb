{
 "cells": [
  {
   "cell_type": "markdown",
   "metadata": {},
   "source": [
    "# create Joblib dictionaries of features\n",
    "### separate objects for modalities and dataset source."
   ]
  },
  {
   "cell_type": "code",
   "execution_count": null,
   "metadata": {},
   "outputs": [],
   "source": [
    "import numpy as np\n",
    "import os\n",
    "import pandas as pd\n",
    "import joblib"
   ]
  },
  {
   "cell_type": "code",
   "execution_count": null,
   "metadata": {},
   "outputs": [],
   "source": [
    "FC = {}\n",
    "# FC.update({'gfc': pd.read_csv('/media/hcs-sci-psy-narun/OpenNEURO_adhd/ds002424-download/derivatives/nilearn_glm/functional_tables/task-gfc_stat-pearsoncorrelation_desc-UncensoredFilteredFlat_Connectivity.csv', index_col=0)})\n",
    "FC.update({'tfc': pd.read_csv('/media/hcs-sci-psy-narun/OpenNEURO_adhd/ds002424-download/derivatives/nilearn_glm/functional_tables/task-tfc_stat-pearsoncorrelation_desc-UncensoredFilteredFlat_Connectivity.csv', index_col=0)})\n",
    "\n",
    "conn = {}\n",
    "conn.update({'spatial': pd.read_csv('/media/hcs-sci-psy-narun/OpenNEURO_adhd/ds002424-download/derivatives/nilearn_glm/functional_tables/task-spatial_stat-pearsoncorrelation_desc-UncensoredFilteredFlat_Connectivity.csv', index_col=0)})\n",
    "conn.update({'verbal': pd.read_csv('/media/hcs-sci-psy-narun/OpenNEURO_adhd/ds002424-download/derivatives/nilearn_glm/functional_tables/task-verbal_stat-pearsoncorrelation_desc-UncensoredFilteredFlat_Connectivity.csv', index_col=0)})\n",
    "\n",
    "for key, item in conn.items():\n",
    "    print(item.index )#item.index,item.isna().sum()\n",
    "    item.index = item.index.astype(str)\n",
    "\n",
    "for key, item in FC.items():\n",
    "    print(item.index )#item.index,item.isna().sum()\n",
    "    item.index = item.index.astype(str)\n",
    "\n",
    "joblib.dump(FC, '/media/hcs-sci-psy-narun/OpenNEURO_adhd/ds002424-download/derivatives/ML_Tables/nesi_input_all/gtfc_dict.joblib')\n",
    "joblib.dump(conn, '/media/hcs-sci-psy-narun/OpenNEURO_adhd/ds002424-download/derivatives/ML_Tables/nesi_input_all/conn_dict.joblib', compress=2)"
   ]
  },
  {
   "cell_type": "code",
   "execution_count": null,
   "metadata": {},
   "outputs": [
    {
     "name": "stdout",
     "output_type": "stream",
     "text": [
      "(79, 379)\n",
      "(79, 379)\n",
      "(79, 379)\n",
      "(79, 379)\n",
      "(79, 379)\n",
      "(79, 379)\n"
     ]
    },
    {
     "data": {
      "text/plain": [
       "['/media/hcs-sci-psy-narun/OpenNEURO_adhd/ds002424-download/derivatives/ML_Tables/nesi_input_all/cntr_dict.joblib']"
      ]
     },
     "metadata": {},
     "output_type": "display_data"
    }
   ],
   "source": [
    "### convert long format all contrasts tables (before std) to wide individual contrasts and add them to features dictionary\n",
    "file_names = ['task-verbal_contrast-All_stat-effect_Glasser.csv','task-spatial_contrast-All_stat-effect_Glasser.csv']\n",
    "task_dir = '/media/hcs-sci-psy-narun/OpenNEURO_adhd/ds002424-download/derivatives/nilearn_glm/functional_tables/'\n",
    "cntr_dict = {}\n",
    "\n",
    "for file in file_names:\n",
    "    contall = pd.read_csv(task_dir + file, index_col=0, low_memory=False)\n",
    "    contall.index = contall.index.str.replace('sub-', '')\n",
    "    contrast_types = contall.columns.str.split('_').str[-1].unique()\n",
    "    # print(fold, file, contrast_types)\n",
    "    # tables = {}\n",
    "    for contrast_type in contrast_types:\n",
    "        columns = [col for col in contall.columns if col.endswith(f'_{contrast_type}')]\n",
    "        table = contall[columns].rename(columns=lambda x: x.replace('_'+contrast_type, \"\"))\n",
    "        # print(fold, contrast_type)\n",
    "        cntr_name = 'cntr_' + contrast_type + '_' + file.split('_')[0]\n",
    "        # table.to_csv(task_dir + 'contrasts/' + cntr_name + '.csv')\n",
    "        cntr_dict.update({\n",
    "        cntr_name: table,\n",
    "        })\n",
    "        print(table.shape)\n",
    "joblib.dump(cntr_dict, '/media/hcs-sci-psy-narun/OpenNEURO_adhd/ds002424-download/derivatives/ML_Tables/nesi_input_all/cntr_dict.joblib')"
   ]
  },
  {
   "cell_type": "code",
   "execution_count": null,
   "metadata": {},
   "outputs": [],
   "source": [
    "smri = {}\n",
    "smri.update({'surf': pd.read_csv('/media/hcs-sci-psy-narun/OpenNEURO_adhd/ds002424-download/derivatives/ML_Tables/cortical_area.csv', index_col=0)})\n",
    "smri.update({'cort': pd.read_csv('/media/hcs-sci-psy-narun/OpenNEURO_adhd/ds002424-download/derivatives/ML_Tables/cortical_thickness.csv', index_col=0)})\n",
    "smri.update({'subc': pd.read_csv('/media/hcs-sci-psy-narun/OpenNEURO_adhd/ds002424-download/derivatives/ML_Tables/subcortical_volume.csv', index_col=0).drop(columns=[])})\n",
    "smri.update({'VolBrain': pd.read_csv('/media/hcs-sci-psy-narun/OpenNEURO_adhd/ds002424-download/derivatives/ML_Tables/total_brain_volume.csv', index_col=0)})\n",
    "\n",
    "for key, item in smri.items():\n",
    "    item.index = item.index.str.replace('sub-', '')\n",
    "\n",
    "smri['subc'].isna().sum()\n",
    "joblib.dump(smri, '/media/hcs-sci-psy-narun/OpenNEURO_adhd/ds002424-download/derivatives/ML_Tables/nesi_input_all/smri_dict.joblib')"
   ]
  }
 ],
 "metadata": {
  "language_info": {
   "name": "python"
  }
 },
 "nbformat": 4,
 "nbformat_minor": 2
}
