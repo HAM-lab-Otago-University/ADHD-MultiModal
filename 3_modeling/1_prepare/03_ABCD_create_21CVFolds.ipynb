{
 "cells": [
  {
   "cell_type": "markdown",
   "metadata": {},
   "source": [
    "# Create Train and Test Folds"
   ]
  },
  {
   "cell_type": "code",
   "execution_count": null,
   "metadata": {},
   "outputs": [],
   "source": [
    "#libraries\n",
    "import pandas as pd\n",
    "import numpy as np\n",
    "import os\n",
    "import sys\n",
    "import shutil\n",
    "import glob\n",
    "import joblib\n",
    "import warnings\n",
    "from sklearn.model_selection import GroupKFold\n"
   ]
  },
  {
   "cell_type": "code",
   "execution_count": null,
   "metadata": {},
   "outputs": [],
   "source": [
    "tables_path ='/media/hcs-sci-psy-narun/ABCC/fmriresults01/derivatives/ML_Tables/'"
   ]
  },
  {
   "cell_type": "code",
   "execution_count": null,
   "metadata": {},
   "outputs": [
    {
     "data": {
      "text/plain": [
       "31"
      ]
     },
     "metadata": {},
     "output_type": "display_data"
    }
   ],
   "source": [
    "# Identify subjects with bad eye sight to remove them. \n",
    "svs = pd.DataFrame(pd.read_csv('/media/hcs-sci-psy-narun/abcd-data-release-5.0/core/neurocognition/nc_y_svs.csv', low_memory=False))\n",
    "eyesight_filter = svs[(((svs['snellen_va_y'].isin([0,1]))) | (svs['vis_flg'].isin([2]))) & (svs['eventname'] == 'baseline_year_1_arm_1')]#\n",
    "eyesight_filter['src_subject_id'].to_csv('/media/hcs-sci-psy-narun/ABCC_F/bad_eye_sight.csv')\n",
    "len(eyesight_filter)"
   ]
  },
  {
   "cell_type": "code",
   "execution_count": null,
   "metadata": {},
   "outputs": [],
   "source": [
    "# demographic\n",
    "demo = pd.read_csv(tables_path+'participants.tsv', sep = '\\t' ,index_col=0)\n",
    "demo = demo[~demo['site'].isin(['site22','888'])]\n",
    "demo.index = demo.index.str.replace('sub-', '')\n",
    "demo = demo[~demo.index.duplicated(keep='first')]\n",
    "# fix site for specific subjects (ids hidden):\n",
    "demo.loc['***', 'site'] = 'site17'\n",
    "demo.loc['***', 'site'] = 'site09'\n",
    "\n",
    "# remove bad eye sight : \n",
    "demo_filtered = demo.loc[~demo.index.isin(eyesight_filter.index)]\n",
    "demo_filtered.to_csv(tables_path + 'demo_nesi.csv')\n"
   ]
  },
  {
   "cell_type": "code",
   "execution_count": null,
   "metadata": {},
   "outputs": [
    {
     "data": {
      "text/plain": [
       "['/media/hcs-sci-psy-narun/ABCC/fmriresults01/derivatives/ML_Tables/Folds_inds.joblib']"
      ]
     },
     "metadata": {},
     "output_type": "display_data"
    }
   ],
   "source": [
    "# Create 21 folds bsed on 21 sites for the one site out cross validation\n",
    "group_kfold = GroupKFold(n_splits=21)\n",
    "folds_list = list(group_kfold.split(demo_filtered, groups=demo_filtered['site']))\n",
    "joblib.dump(folds_list, tables_path + 'Folds_inds.joblib', compress=1) "
   ]
  },
  {
   "cell_type": "code",
   "execution_count": null,
   "metadata": {},
   "outputs": [
    {
     "name": "stdout",
     "output_type": "stream",
     "text": [
      "Fold 1: Test Sites: ['site16']\n",
      "Fold 2: Test Sites: ['site04']\n",
      "Fold 3: Test Sites: ['site10']\n",
      "Fold 4: Test Sites: ['site13']\n",
      "Fold 5: Test Sites: ['site20']\n",
      "Fold 6: Test Sites: ['site03']\n",
      "Fold 7: Test Sites: ['site21']\n",
      "Fold 8: Test Sites: ['site14']\n",
      "Fold 9: Test Sites: ['site12']\n",
      "Fold 10: Test Sites: ['site06']\n",
      "Fold 11: Test Sites: ['site17']\n",
      "Fold 12: Test Sites: ['site02']\n",
      "Fold 13: Test Sites: ['site19']\n",
      "Fold 14: Test Sites: ['site15']\n",
      "Fold 15: Test Sites: ['site11']\n",
      "Fold 16: Test Sites: ['site09']\n",
      "Fold 17: Test Sites: ['site01']\n",
      "Fold 18: Test Sites: ['site18']\n",
      "Fold 19: Test Sites: ['site05']\n",
      "Fold 20: Test Sites: ['site08']\n",
      "Fold 21: Test Sites: ['site07']\n"
     ]
    }
   ],
   "source": [
    "folds_list = joblib.load('/media/hcs-sci-psy-narun/ABCC/fmriresults01/derivatives/ML_Tables/Folds_inds.joblib')\n",
    "demo_filtered =  pd.read_csv(tables_path + 'demo_nesi.csv')\n",
    "# Loop through each fold and print the test sites\n",
    "for fold_idx, (train_idx, test_idx) in enumerate(folds_list):\n",
    "    test_sites = demo_filtered.iloc[test_idx]['site'].unique()\n",
    "    print(f\"Fold {fold_idx + 1}: Test Sites: {test_sites}\")"
   ]
  }
 ],
 "metadata": {
  "language_info": {
   "name": "python"
  }
 },
 "nbformat": 4,
 "nbformat_minor": 2
}
